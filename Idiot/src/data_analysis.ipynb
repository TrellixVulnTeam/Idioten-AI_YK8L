{
 "cells": [
  {
   "cell_type": "markdown",
   "metadata": {},
   "source": [
    "# Datagenerering"
   ]
  },
  {
   "cell_type": "code",
   "execution_count": 2,
   "metadata": {},
   "outputs": [],
   "source": [
    "import import_files\n",
    "import game_engine as ge\n",
    "import static_agents as sa\n",
    "import NEAT_agent as na\n",
    "import pickle\n",
    "import neat\n"
   ]
  },
  {
   "cell_type": "code",
   "execution_count": 3,
   "metadata": {},
   "outputs": [],
   "source": [
    "genome_path = r\"WinnerAIs\\winner7.pkl\"\n",
    "config_path = r\"Config-files\\config2.txt\""
   ]
  },
  {
   "cell_type": "code",
   "execution_count": 4,
   "metadata": {},
   "outputs": [],
   "source": [
    "def create_NEAT_agent(config_path, genome_path):\n",
    "    config = neat.config.Config(\n",
    "        neat.DefaultGenome,\n",
    "        neat.DefaultReproduction,\n",
    "        neat.DefaultSpeciesSet,\n",
    "        neat.DefaultStagnation,\n",
    "        config_path,\n",
    "    )\n",
    "\n",
    "    with open(genome_path, \"rb\") as f:\n",
    "        genome = pickle.load(f)\n",
    "\n",
    "    network = neat.nn.FeedForwardNetwork.create(genome, config)\n",
    "    agent = na.NEAT_Agent2(genome, network)\n",
    "    return agent\n"
   ]
  },
  {
   "cell_type": "code",
   "execution_count": 18,
   "metadata": {},
   "outputs": [],
   "source": [
    "neat_agent = create_NEAT_agent(config_path, genome_path)\n",
    "static_agent = sa.PlayLowSaveAgent1()\n",
    "games = 10_000"
   ]
  },
  {
   "cell_type": "markdown",
   "metadata": {},
   "source": [
    "### Forskjellige analyser\n",
    "Vi kan se på analyser av flere ulike oppsett av kamper"
   ]
  },
  {
   "cell_type": "markdown",
   "metadata": {},
   "source": [
    "## Individuelle kamper\n",
    "Hver kamp spilles som en faktisk kamp ville blitt spilt, med tilfeldige kort.\n",
    "\n",
    "### NEAT_agent først"
   ]
  },
  {
   "cell_type": "code",
   "execution_count": 22,
   "metadata": {},
   "outputs": [],
   "source": [
    "def Individual_Test_Neat(games):\n",
    "    results = {neat_agent: 0, static_agent: 0}\n",
    "    for i in range(games):\n",
    "        game = ge.AgentGame(agents=[neat_agent, static_agent], run_game=False)\n",
    "        winner, _ = game.run_game()\n",
    "        if bool(winner):\n",
    "            results[winner] += 1\n",
    "\n",
    "    print(f'neat_agent: {results[neat_agent] / games}')\n",
    "    print(f'static_agent: {results[static_agent] / games}')"
   ]
  },
  {
   "cell_type": "markdown",
   "metadata": {},
   "source": [
    "### Static_agent først"
   ]
  },
  {
   "cell_type": "code",
   "execution_count": 21,
   "metadata": {},
   "outputs": [],
   "source": [
    "def Individual_Test_Static(games):\n",
    "    results = {neat_agent: 0, static_agent: 0}\n",
    "    for i in range(games):\n",
    "        game = ge.AgentGame(agents=[static_agent, neat_agent], run_game=False)\n",
    "        winner, _ = game.run_game()\n",
    "        if bool(winner):\n",
    "            results[winner] += 1\n",
    "\n",
    "    print(f'neat_agent: {results[neat_agent] / games}')\n",
    "    print(f'static_agent: {results[static_agent] / games}')"
   ]
  },
  {
   "cell_type": "code",
   "execution_count": 23,
   "metadata": {},
   "outputs": [
    {
     "name": "stdout",
     "output_type": "stream",
     "text": [
      "neat_agent: 0.4809\n",
      "static_agent: 0.5191\n"
     ]
    }
   ],
   "source": [
    "Individual_Test_Neat(games)"
   ]
  },
  {
   "cell_type": "code",
   "execution_count": 24,
   "metadata": {},
   "outputs": [
    {
     "name": "stdout",
     "output_type": "stream",
     "text": [
      "neat_agent: 0.4814\n",
      "static_agent: 0.5186\n"
     ]
    }
   ],
   "source": [
    "Individual_Test_Static(games)"
   ]
  },
  {
   "cell_type": "code",
   "execution_count": null,
   "metadata": {},
   "outputs": [],
   "source": []
  }
 ],
 "metadata": {
  "interpreter": {
   "hash": "3d78c1328230a9bf4debec640c1cb491a3de6c82a610fce6cc7c5daf49abf62c"
  },
  "kernelspec": {
   "display_name": "Python 3.9.5 ('IdiotEnv': venv)",
   "language": "python",
   "name": "python3"
  },
  "language_info": {
   "codemirror_mode": {
    "name": "ipython",
    "version": 3
   },
   "file_extension": ".py",
   "mimetype": "text/x-python",
   "name": "python",
   "nbconvert_exporter": "python",
   "pygments_lexer": "ipython3",
   "version": "3.9.5"
  },
  "orig_nbformat": 4
 },
 "nbformat": 4,
 "nbformat_minor": 2
}
