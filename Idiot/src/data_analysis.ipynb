{
 "cells": [
  {
   "cell_type": "markdown",
   "metadata": {},
   "source": [
    "# Dataanalyse"
   ]
  },
  {
   "cell_type": "code",
   "execution_count": 7,
   "metadata": {},
   "outputs": [],
   "source": [
    "import import_files\n",
    "import game_engine as ge\n",
    "import static_agents as sa\n",
    "import NEAT_agent as na\n",
    "import time\n",
    "import pickle\n",
    "import neat\n",
    "import pandas\n"
   ]
  },
  {
   "cell_type": "code",
   "execution_count": 9,
   "metadata": {},
   "outputs": [],
   "source": [
    "genome_path = r\"WinnerAIs\\winner7.pkl\"\n",
    "config_path = r\"Config-files\\config2.txt\""
   ]
  },
  {
   "cell_type": "code",
   "execution_count": 8,
   "metadata": {},
   "outputs": [],
   "source": [
    "def create_NEAT_agent(config_path, genome_path):\n",
    "    config = neat.config.Config(\n",
    "        neat.DefaultGenome,\n",
    "        neat.DefaultReproduction,\n",
    "        neat.DefaultSpeciesSet,\n",
    "        neat.DefaultStagnation,\n",
    "        config_path,\n",
    "    )\n",
    "\n",
    "    with open(genome_path, \"rb\") as f:\n",
    "        genome = pickle.load(f)\n",
    "\n",
    "    network = neat.nn.FeedForwardNetwork.create(genome, config)\n",
    "    agent = na.NEAT_Agent2(genome, network)\n",
    "    return agent\n"
   ]
  },
  {
   "cell_type": "code",
   "execution_count": 10,
   "metadata": {},
   "outputs": [],
   "source": [
    "neat_agent = create_NEAT_agent(config_path, genome_path)\n",
    "static_agent = sa.PlayLowSaveAgent1()"
   ]
  },
  {
   "cell_type": "code",
   "execution_count": null,
   "metadata": {},
   "outputs": [],
   "source": []
  }
 ],
 "metadata": {
  "interpreter": {
   "hash": "3d78c1328230a9bf4debec640c1cb491a3de6c82a610fce6cc7c5daf49abf62c"
  },
  "kernelspec": {
   "display_name": "Python 3.9.5 ('IdiotEnv': venv)",
   "language": "python",
   "name": "python3"
  },
  "language_info": {
   "codemirror_mode": {
    "name": "ipython",
    "version": 3
   },
   "file_extension": ".py",
   "mimetype": "text/x-python",
   "name": "python",
   "nbconvert_exporter": "python",
   "pygments_lexer": "ipython3",
   "version": "3.9.5"
  },
  "orig_nbformat": 4
 },
 "nbformat": 4,
 "nbformat_minor": 2
}
