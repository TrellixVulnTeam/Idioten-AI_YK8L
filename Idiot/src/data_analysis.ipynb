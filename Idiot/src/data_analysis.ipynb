{
 "cells": [
  {
   "cell_type": "code",
   "execution_count": 1,
   "metadata": {},
   "outputs": [],
   "source": [
    "import import_files\n",
    "import game_engine as ge\n",
    "import static_agents as sa\n",
    "import NEAT_agent as na\n",
    "import time\n",
    "import pickle\n",
    "import neat\n",
    "import os"
   ]
  },
  {
   "cell_type": "code",
   "execution_count": null,
   "metadata": {},
   "outputs": [],
   "source": []
  }
 ],
 "metadata": {
  "interpreter": {
   "hash": "3d78c1328230a9bf4debec640c1cb491a3de6c82a610fce6cc7c5daf49abf62c"
  },
  "kernelspec": {
   "display_name": "Python 3.9.5 ('IdiotEnv': venv)",
   "language": "python",
   "name": "python3"
  },
  "language_info": {
   "codemirror_mode": {
    "name": "ipython",
    "version": 3
   },
   "file_extension": ".py",
   "mimetype": "text/x-python",
   "name": "python",
   "nbconvert_exporter": "python",
   "pygments_lexer": "ipython3",
   "version": "3.9.5"
  },
  "orig_nbformat": 4
 },
 "nbformat": 4,
 "nbformat_minor": 2
}
